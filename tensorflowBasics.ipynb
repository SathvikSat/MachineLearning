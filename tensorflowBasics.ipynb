{
  "nbformat": 4,
  "nbformat_minor": 0,
  "metadata": {
    "colab": {
      "name": "Untitled1.ipynb",
      "provenance": [],
      "collapsed_sections": [],
      "authorship_tag": "ABX9TyOeBsbo5suyImlnggkI9v8i",
      "include_colab_link": true
    },
    "kernelspec": {
      "name": "python3",
      "display_name": "Python 3"
    }
  },
  "cells": [
    {
      "cell_type": "markdown",
      "metadata": {
        "id": "view-in-github",
        "colab_type": "text"
      },
      "source": [
        "<a href=\"https://colab.research.google.com/github/SathvikSat/MachineLearning/blob/master/tensorflowBasics.ipynb\" target=\"_parent\"><img src=\"https://colab.research.google.com/assets/colab-badge.svg\" alt=\"Open In Colab\"/></a>"
      ]
    },
    {
      "cell_type": "code",
      "metadata": {
        "id": "IQObBwCmtx0l",
        "colab_type": "code",
        "colab": {
          "base_uri": "https://localhost:8080/",
          "height": 34
        },
        "outputId": "c23da956-7864-438b-e73b-c30e9ca75d74"
      },
      "source": [
        "%tensorflow_version 2.x "
      ],
      "execution_count": 1,
      "outputs": [
        {
          "output_type": "stream",
          "text": [
            "TensorFlow 2.x selected.\n"
          ],
          "name": "stdout"
        }
      ]
    },
    {
      "cell_type": "code",
      "metadata": {
        "id": "4u64OoIAt0Xg",
        "colab_type": "code",
        "colab": {
          "base_uri": "https://localhost:8080/",
          "height": 34
        },
        "outputId": "be5de4df-e308-4bfb-f57b-6f93edf2cb29"
      },
      "source": [
        "import numpy as np\n",
        "import tensorflow as tf\n",
        "import matplotlib.pyplot as plt\n",
        "print(tf.version)\n"
      ],
      "execution_count": 2,
      "outputs": [
        {
          "output_type": "stream",
          "text": [
            "<module 'tensorflow_core._api.v2.version' from '/usr/local/lib/python3.6/dist-packages/tensorflow_core/_api/v2/version/__init__.py'>\n"
          ],
          "name": "stdout"
        }
      ]
    },
    {
      "cell_type": "code",
      "metadata": {
        "id": "P1tWf31_uDZ_",
        "colab_type": "code",
        "colab": {}
      },
      "source": [
        "#tensor object\n",
        "#tensor has datatype and a shape (dimension of tensor )"
      ],
      "execution_count": 0,
      "outputs": []
    },
    {
      "cell_type": "code",
      "metadata": {
        "id": "WpDYIe-Luxnt",
        "colab_type": "code",
        "colab": {}
      },
      "source": [
        "string = tf.Variable(\"This is a string\", tf.string) #type and shape\n",
        "number = tf.Variable(123, tf.int16)\n",
        "floating = tf.Variable(1.2,  tf.float64)\n",
        "#shape = 1 is scalar"
      ],
      "execution_count": 0,
      "outputs": []
    },
    {
      "cell_type": "code",
      "metadata": {
        "id": "3LafalW1u0bz",
        "colab_type": "code",
        "colab": {}
      },
      "source": [
        "#rank or degree - no dimesions above example rank is zero\n",
        "#below is rank-1; array ie, deepet level of list \n",
        "rank_2tensor = tf.Variable([[\"test1\", \"test2\", \"test3\"], [\"hello1\", \"hello2\", \"Hello3\" ]] , tf.string) #uniform num of elements in each dimensio, else err"
      ],
      "execution_count": 0,
      "outputs": []
    },
    {
      "cell_type": "code",
      "metadata": {
        "id": "Ffdaot6xxx0K",
        "colab_type": "code",
        "colab": {
          "base_uri": "https://localhost:8080/",
          "height": 34
        },
        "outputId": "600406d4-8adc-45ec-f33f-b83a306d017f"
      },
      "source": [
        "tf.rank(rank_2tensor)\n",
        "#numpy=# specifies rank, ie deepest level of list "
      ],
      "execution_count": 37,
      "outputs": [
        {
          "output_type": "execute_result",
          "data": {
            "text/plain": [
              "<tf.Tensor: shape=(), dtype=int32, numpy=2>"
            ]
          },
          "metadata": {
            "tags": []
          },
          "execution_count": 37
        }
      ]
    },
    {
      "cell_type": "code",
      "metadata": {
        "id": "1_R2TRbVx12D",
        "colab_type": "code",
        "colab": {
          "base_uri": "https://localhost:8080/",
          "height": 34
        },
        "outputId": "96fdf9f3-5e95-4d75-ab9f-04776856f69a"
      },
      "source": [
        "rank_2tensor.shape #how many itemms in each dimension "
      ],
      "execution_count": 38,
      "outputs": [
        {
          "output_type": "execute_result",
          "data": {
            "text/plain": [
              "TensorShape([2, 3])"
            ]
          },
          "metadata": {
            "tags": []
          },
          "execution_count": 38
        }
      ]
    },
    {
      "cell_type": "code",
      "metadata": {
        "id": "J3VKxd68x6c-",
        "colab_type": "code",
        "colab": {
          "base_uri": "https://localhost:8080/",
          "height": 269
        },
        "outputId": "0f0f2a54-6c40-4d2f-82d0-f6d1b09739ff"
      },
      "source": [
        "#changing shape: \n",
        "#having same amount of elements in different shapes\n",
        "tensor1  = tf.ones([1,2,3])\n",
        "print(tensor1) #1 list, inside which 2 list each of 3 elements rank =3\n",
        "tensor2 = tf.reshape(tensor1, [2,3,1])\n",
        "print(tensor2) #2 list inside which 3 list, with each list of one element rank=3\n",
        "tensor3 = tf.reshape(tensor2, [3,-1]) # -1 tells tensor to cal the size of the dimension in that place \n",
        "# this will reshape the tensor to [3,2]\n",
        "print(tensor3)\n"
      ],
      "execution_count": 53,
      "outputs": [
        {
          "output_type": "stream",
          "text": [
            "tf.Tensor(\n",
            "[[[1. 1. 1.]\n",
            "  [1. 1. 1.]]], shape=(1, 2, 3), dtype=float32)\n",
            "tf.Tensor(\n",
            "[[[1.]\n",
            "  [1.]\n",
            "  [1.]]\n",
            "\n",
            " [[1.]\n",
            "  [1.]\n",
            "  [1.]]], shape=(2, 3, 1), dtype=float32)\n",
            "tf.Tensor(\n",
            "[[1. 1.]\n",
            " [1. 1.]\n",
            " [1. 1.]], shape=(3, 2), dtype=float32)\n"
          ],
          "name": "stdout"
        }
      ]
    },
    {
      "cell_type": "code",
      "metadata": {
        "id": "qvaP-sNr1qfU",
        "colab_type": "code",
        "colab": {}
      },
      "source": [
        "#types of tensors 1. Variable 3 mutable \n",
        "# other: Constants, placeholder, Sparse Tensor #these are immutable "
      ],
      "execution_count": 0,
      "outputs": []
    },
    {
      "cell_type": "code",
      "metadata": {
        "id": "TUgK2bgy1xaG",
        "colab_type": "code",
        "colab": {}
      },
      "source": [
        ""
      ],
      "execution_count": 0,
      "outputs": []
    },
    {
      "cell_type": "code",
      "metadata": {
        "id": "naeWbYpp18L7",
        "colab_type": "code",
        "colab": {}
      },
      "source": [
        "\n",
        "\n",
        "\n",
        "\n",
        "\n",
        "\n",
        "\n"
      ],
      "execution_count": 0,
      "outputs": []
    },
    {
      "cell_type": "code",
      "metadata": {
        "id": "J-kmFJ9D1_IM",
        "colab_type": "code",
        "colab": {}
      },
      "source": [
        ""
      ],
      "execution_count": 0,
      "outputs": []
    }
  ]
}